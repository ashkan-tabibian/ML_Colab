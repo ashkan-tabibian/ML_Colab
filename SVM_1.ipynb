{
  "cells": [
    {
      "cell_type": "markdown",
      "metadata": {
        "id": "view-in-github",
        "colab_type": "text"
      },
      "source": [
        "<a href=\"https://colab.research.google.com/github/ashkan-tabibian/ML_Colab/blob/main/SVM_1.ipynb\" target=\"_parent\"><img src=\"https://colab.research.google.com/assets/colab-badge.svg\" alt=\"Open In Colab\"/></a>"
      ]
    },
    {
      "cell_type": "code",
      "execution_count": 4,
      "metadata": {
        "colab": {
          "base_uri": "https://localhost:8080/"
        },
        "id": "oTcYo2tcMFR4",
        "outputId": "625222ea-b7d3-473b-f9b7-90e5d9b15d35"
      },
      "outputs": [
        {
          "output_type": "stream",
          "name": "stdout",
          "text": [
            "Features:  ['mean radius' 'mean texture' 'mean perimeter' 'mean area'\n",
            " 'mean smoothness' 'mean compactness' 'mean concavity'\n",
            " 'mean concave points' 'mean symmetry' 'mean fractal dimension'\n",
            " 'radius error' 'texture error' 'perimeter error' 'area error'\n",
            " 'smoothness error' 'compactness error' 'concavity error'\n",
            " 'concave points error' 'symmetry error' 'fractal dimension error'\n",
            " 'worst radius' 'worst texture' 'worst perimeter' 'worst area'\n",
            " 'worst smoothness' 'worst compactness' 'worst concavity'\n",
            " 'worst concave points' 'worst symmetry' 'worst fractal dimension']\n",
            "Labels:  ['malignant' 'benign']\n"
          ]
        }
      ],
      "source": [
        "import sklearn\n",
        "from sklearn import svm\n",
        "from sklearn import datasets\n",
        "\n",
        "cancer = datasets.load_breast_cancer()\n",
        "print(\"Features: \", cancer.feature_names)\n",
        "print(\"Labels: \", cancer.target_names)\n",
        "\n",
        "#print(cancer)"
      ]
    },
    {
      "cell_type": "code",
      "execution_count": 18,
      "metadata": {
        "id": "y4XIiPD-NAGm",
        "colab": {
          "base_uri": "https://localhost:8080/"
        },
        "outputId": "216cdbeb-2f67-49e4-ecca-8dfd7ced6937"
      },
      "outputs": [
        {
          "output_type": "stream",
          "name": "stdout",
          "text": [
            "[[2.026e+01 2.303e+01 1.324e+02 1.264e+03 9.078e-02 1.313e-01 1.465e-01\n",
            "  8.683e-02 2.095e-01 5.649e-02 7.576e-01 1.509e+00 4.554e+00 8.787e+01\n",
            "  6.016e-03 3.482e-02 4.232e-02 1.269e-02 2.657e-02 4.411e-03 2.422e+01\n",
            "  3.159e+01 1.561e+02 1.750e+03 1.190e-01 3.539e-01 4.098e-01 1.573e-01\n",
            "  3.689e-01 8.368e-02]\n",
            " [1.585e+01 2.395e+01 1.037e+02 7.827e+02 8.401e-02 1.002e-01 9.938e-02\n",
            "  5.364e-02 1.847e-01 5.338e-02 4.033e-01 1.078e+00 2.903e+00 3.658e+01\n",
            "  9.769e-03 3.126e-02 5.051e-02 1.992e-02 2.981e-02 3.002e-03 1.684e+01\n",
            "  2.766e+01 1.120e+02 8.765e+02 1.131e-01 1.924e-01 2.322e-01 1.119e-01\n",
            "  2.809e-01 6.287e-02]\n",
            " [1.660e+01 2.808e+01 1.083e+02 8.581e+02 8.455e-02 1.023e-01 9.251e-02\n",
            "  5.302e-02 1.590e-01 5.648e-02 4.564e-01 1.075e+00 3.425e+00 4.855e+01\n",
            "  5.903e-03 3.731e-02 4.730e-02 1.557e-02 1.318e-02 3.892e-03 1.898e+01\n",
            "  3.412e+01 1.267e+02 1.124e+03 1.139e-01 3.094e-01 3.403e-01 1.418e-01\n",
            "  2.218e-01 7.820e-02]\n",
            " [1.510e+01 1.639e+01 9.958e+01 6.745e+02 1.150e-01 1.807e-01 1.138e-01\n",
            "  8.534e-02 2.001e-01 6.467e-02 4.309e-01 1.068e+00 2.796e+00 3.984e+01\n",
            "  9.006e-03 4.185e-02 3.204e-02 2.258e-02 2.353e-02 4.984e-03 1.611e+01\n",
            "  1.833e+01 1.059e+02 7.626e+02 1.386e-01 2.883e-01 1.960e-01 1.423e-01\n",
            "  2.590e-01 7.779e-02]\n",
            " [8.671e+00 1.445e+01 5.442e+01 2.272e+02 9.138e-02 4.276e-02 0.000e+00\n",
            "  0.000e+00 1.722e-01 6.724e-02 2.204e-01 7.873e-01 1.435e+00 1.136e+01\n",
            "  9.172e-03 8.007e-03 0.000e+00 0.000e+00 2.711e-02 3.399e-03 9.262e+00\n",
            "  1.704e+01 5.836e+01 2.592e+02 1.162e-01 7.057e-02 0.000e+00 0.000e+00\n",
            "  2.592e-01 7.848e-02]] \n",
            " [0 0 0 1 1]\n"
          ]
        }
      ],
      "source": [
        "x = cancer.data  # All of the features\n",
        "y = cancer.target  # All of the labels\n",
        "\n",
        "x_train, x_test, y_train, y_test = sklearn.model_selection.train_test_split(x, y, test_size=0.2)\n",
        "print(x_train[:5], \"\\n\", y_train[:5])\n",
        "\n",
        "classes= [\"malignant\",\"benign\"]"
      ]
    },
    {
      "cell_type": "code",
      "source": [
        "from sklearn import metrics\n",
        "\n",
        "clf=svm.SVC(kernel=\"linear\", C=2)\n",
        "clf.fit(x_train,y_train)\n",
        "y_pred=clf.predict(x_test)\n",
        "\n",
        "acc = metrics.accuracy_score(y_test, y_pred)\n",
        "print(acc)"
      ],
      "metadata": {
        "colab": {
          "base_uri": "https://localhost:8080/"
        },
        "id": "f7Zj6pvwDAeg",
        "outputId": "aeaf3d2d-2c04-44b5-b974-3419563f9986"
      },
      "execution_count": 34,
      "outputs": [
        {
          "output_type": "stream",
          "name": "stdout",
          "text": [
            "0.956140350877193\n"
          ]
        }
      ]
    }
  ],
  "metadata": {
    "colab": {
      "name": "SVM_1.ipynb",
      "provenance": [],
      "collapsed_sections": [],
      "authorship_tag": "ABX9TyOAUCrEAuK3iXzgJ0l5lJLw",
      "include_colab_link": true
    },
    "kernelspec": {
      "display_name": "Python 3",
      "name": "python3"
    },
    "language_info": {
      "name": "python"
    }
  },
  "nbformat": 4,
  "nbformat_minor": 0
}